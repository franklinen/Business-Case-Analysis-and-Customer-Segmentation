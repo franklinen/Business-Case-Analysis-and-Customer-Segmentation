{
 "cells": [
  {
   "cell_type": "code",
   "execution_count": 17,
   "metadata": {},
   "outputs": [],
   "source": [
    "import os\n",
    "os.chdir(r'C:\\Users\\MAIN\\Desktop\\Most Important Exercises\\Completed projs for GitHub Report\\BusinessCase_Data')\n",
    "os.getcwd()\n",
    "\n",
    "import numpy as np\n",
    "import pandas as pd\n",
    "import matplotlib.pyplot as plt\n",
    "plt.interactive(False)"
   ]
  },
  {
   "cell_type": "markdown",
   "metadata": {},
   "source": [
    "## Exploratory Data Analysis\n"
   ]
  },
  {
   "cell_type": "markdown",
   "metadata": {},
   "source": [
    "### Question1 - What branch has the most number of customers?"
   ]
  },
  {
   "cell_type": "code",
   "execution_count": 18,
   "metadata": {},
   "outputs": [
    {
     "name": "stdout",
     "output_type": "stream",
     "text": [
      "1029\n"
     ]
    }
   ],
   "source": [
    "#import dataset\n",
    "df = pd.read_csv('BusinessCase_Accts.csv')\n",
    "df.head(n=5)\n",
    "df.describe()\n",
    "df.shape\n",
    "#group branches by branch number and take count of customers by customer id,\n",
    "m = df.groupby(['branchNumber',])['cust_id'].count()\n",
    "m.head(5)\n",
    "#convert the resulting numpy series back to a dataframe\n",
    "df = pd.DataFrame({'branchNumber':m.index, 'NumberofCust':m.values})\n",
    "df.head(5)\n",
    "#sort the reulting dataframe by number of customers \n",
    "df.sort_values(by=['NumberofCust'], inplace=True, ascending=False)\n",
    "df.head(5)\n",
    "#subset the top value of BranchNumber as the branch with the highest number of customers\n",
    "print(df.iloc[0,0])\n",
    "#(Answer = Branch 1029 with 302 customers)"
   ]
  },
  {
   "cell_type": "markdown",
   "metadata": {},
   "source": [
    "### Question2 - How old is oldest customer as of 2019-07-01"
   ]
  },
  {
   "cell_type": "code",
   "execution_count": 19,
   "metadata": {},
   "outputs": [
    {
     "data": {
      "text/plain": [
       "106.21162652210518"
      ]
     },
     "execution_count": 19,
     "metadata": {},
     "output_type": "execute_result"
    }
   ],
   "source": [
    "import datetime\n",
    "#import data\n",
    "df = pd.read_csv('BusinessCase_Custs.csv')\n",
    "#convert date of birth column to datetime\n",
    "df['birthDate'] = pd.to_datetime(df['birthDate'])\n",
    "#define the end date 2019-07-01 and format to date format\n",
    "edate = '172019'\n",
    "end_date = datetime.datetime.strptime(edate, '%m%d%Y')\n",
    "#assign end date to a column\n",
    "df['Enddate'] = end_date\n",
    "df.head()\n",
    "#get a new column Age, with the difference between the birthdate and end date in years\n",
    "df['Age'] = df['Enddate'] - df['birthDate']\n",
    "df['Age']=df['Age']/np.timedelta64(1,'Y')\n",
    "df.head(n=5)\n",
    "#sort the dataframe by the age column and select the topage as the age of the oldest customer\n",
    "df.sort_values(by=['Age'], inplace=True, ascending=False)\n",
    "df.iloc[0,14]"
   ]
  },
  {
   "cell_type": "markdown",
   "metadata": {},
   "source": [
    "### Question3 - How many accounts does the oldest customer have?\n",
    "for the oldest customer, df['id'] = fe51c153-fbec-4b64-9b00-2530035ef0e1_522519ff-5e56-4d8a-9888-560f2cde4938.\n",
    "the id was obtained from the previous calculation of the customer age"
   ]
  },
  {
   "cell_type": "code",
   "execution_count": 20,
   "metadata": {},
   "outputs": [
    {
     "data": {
      "text/plain": [
       "2"
      ]
     },
     "execution_count": 20,
     "metadata": {},
     "output_type": "execute_result"
    }
   ],
   "source": [
    "\n",
    "data1 = pd.read_csv('BusinessCase_Accts.csv')\n",
    "data1.head(n=5)\n",
    "list(data1.columns)\n",
    "#where data from dataset where the cust_id is equal to the cust_id of the oldest customer\n",
    "df7 = data1[data1['cust_id'] == 'fe51c153-fbec-4b64-9b00-2530035ef0e1_522519ff-5e56-4d8a-9888-560f2cde4938'].head(5)\n",
    "df7\n",
    "#find the unique number of account numbers that belongs the cust_id\n",
    "NumAccount = df7['id'].nunique()\n",
    "NumAccount"
   ]
  },
  {
   "cell_type": "markdown",
   "metadata": {},
   "source": [
    "### Question4 - How many transactions went to Starbucks in April?"
   ]
  },
  {
   "cell_type": "code",
   "execution_count": 21,
   "metadata": {},
   "outputs": [
    {
     "name": "stdout",
     "output_type": "stream",
     "text": [
      "395\n"
     ]
    }
   ],
   "source": [
    "#import data\n",
    "df = pd.read_csv('BusinessCase_Tx.csv')\n",
    "#convert transaction date column to datetime\n",
    "df['originationDateTime'] = pd.to_datetime(df['originationDateTime'])\n",
    "#create a new column with only the month of the transaction date\n",
    "df['month_of_date'] = df['originationDateTime'].dt.month\n",
    "df.head(n=5)\n",
    "#subset required columns of the dataset\n",
    "df5 = df[['description', 'currencyAmount', 'originationDateTime', 'month_of_date','categoryTags']]\n",
    "df5.head(n=5)\n",
    "#select data where description has Starbucks in the month of April\n",
    "df6 = df5[(df5['description'].str.match('STARBUCKS')) & (df5['month_of_date'] == 4)]\n",
    "df6.head(n=5)\n",
    "#count number of transaction description with starbucks\n",
    "tx = df6['description'].count()\n",
    "print(tx)"
   ]
  },
  {
   "cell_type": "markdown",
   "metadata": {},
   "source": [
    "### Question5 - How much was spent on Starbucks in April?"
   ]
  },
  {
   "cell_type": "code",
   "execution_count": 22,
   "metadata": {},
   "outputs": [
    {
     "name": "stdout",
     "output_type": "stream",
     "text": [
      "1720.87\n"
     ]
    }
   ],
   "source": [
    "#import data\n",
    "df = pd.read_csv('BusinessCase_Tx.csv')\n",
    "#convert transaction date column to datetime\n",
    "df['originationDateTime'] = pd.to_datetime(df['originationDateTime'])\n",
    "#create a new column with only the month of the transaction date\n",
    "df['month_of_date'] = df['originationDateTime'].dt.month\n",
    "df.head(n=5)\n",
    "#subset required columns of the dataset\n",
    "df5 = df[['description', 'currencyAmount', 'originationDateTime', 'month_of_date','categoryTags']]\n",
    "df5.head(n=5)\n",
    "#select data where description has Starbucks in the month of April\n",
    "df6 = df5[(df5['description'].str.match('STARBUCKS')) & (df5['month_of_date'] == 4)]\n",
    "#Calculate Amt spent on Starbucks for the month of April\n",
    "Amt = df6['currencyAmount'].sum()\n",
    "print(Amt)"
   ]
  },
  {
   "cell_type": "markdown",
   "metadata": {},
   "source": [
    "### Question6 - Hypothesis Testing: Is the average spend at Starbucks(statistically)significantly different in April compared to June?"
   ]
  },
  {
   "cell_type": "code",
   "execution_count": 23,
   "metadata": {},
   "outputs": [
    {
     "name": "stdout",
     "output_type": "stream",
     "text": [
      "4.356632911392409\n",
      "4.4984334203655365\n"
     ]
    },
    {
     "data": {
      "text/plain": [
       "Ttest_indResult(statistic=-1.008555214726324, pvalue=0.3135027717110388)"
      ]
     },
     "execution_count": 23,
     "metadata": {},
     "output_type": "execute_result"
    }
   ],
   "source": [
    "import scipy.stats as stats\n",
    "#Calculate avg spend at starbucks in April\n",
    "Aprilspend = df6['currencyAmount']\n",
    "Aprilmean = df6['currencyAmount'].mean()\n",
    "print(Aprilmean) # = 4.36\n",
    "#Calculate avg spend at starbucks in June\n",
    "df6 = df5[(df5['description'].str.match('STARBUCKS')) & (df5['month_of_date'] == 6)]\n",
    "df6.head(n=5)\n",
    "Junespend = df6['currencyAmount']\n",
    "Junemean = df6['currencyAmount'].mean()\n",
    "print(Junemean) # = 4.50\n",
    "#Check the statstical significance of the two means - hypothesis testing\n",
    "#Null hypothesis: The means of the average april spend and average june spend are the same.\n",
    "stats.ttest_ind(a= Aprilspend,\n",
    "                b= Junespend,\n",
    "                equal_var=False)\n"
   ]
  },
  {
   "cell_type": "markdown",
   "metadata": {},
   "source": [
    "Ttest_indResult(statistic=-1.008555214726324, pvalue=0.3135027717110388). we used a two-tailed t-test since the two means are sample means. \n",
    "The test yields a p-value of 0.3135, which means there is a 33% chance we will see sample data this far apart if the two groups tested are actually identical.\n",
    "we using a 95% confidence level. We would fail to reject the null hypothesis, since the p-value is greater than the corresponding significance level of 5%."
   ]
  },
  {
   "cell_type": "markdown",
   "metadata": {},
   "source": [
    "### Question7 - Which date exhibited the highest average spend above trend at Starbucks(based on a 10-period moving average, ignoring missing dates)?"
   ]
  },
  {
   "cell_type": "code",
   "execution_count": 24,
   "metadata": {},
   "outputs": [
    {
     "name": "stdout",
     "output_type": "stream",
     "text": [
      "2018-06-28 07:33:00+00:00\n"
     ]
    },
    {
     "name": "stderr",
     "output_type": "stream",
     "text": [
      "C:\\Users\\MAIN\\AnacondaProjects\\lib\\site-packages\\ipykernel_launcher.py:10: SettingWithCopyWarning: \n",
      "A value is trying to be set on a copy of a slice from a DataFrame.\n",
      "Try using .loc[row_indexer,col_indexer] = value instead\n",
      "\n",
      "See the caveats in the documentation: http://pandas.pydata.org/pandas-docs/stable/indexing.html#indexing-view-versus-copy\n",
      "  # Remove the CWD from sys.path while we load stuff.\n",
      "C:\\Users\\MAIN\\AnacondaProjects\\lib\\site-packages\\ipykernel_launcher.py:13: SettingWithCopyWarning: \n",
      "A value is trying to be set on a copy of a slice from a DataFrame\n",
      "\n",
      "See the caveats in the documentation: http://pandas.pydata.org/pandas-docs/stable/indexing.html#indexing-view-versus-copy\n",
      "  del sys.path[0]\n"
     ]
    }
   ],
   "source": [
    "#import data\n",
    "df = pd.read_csv('BusinessCase_Tx.csv')\n",
    "#convert to datetime and match transactions with the starbucks description\n",
    "df['originationDateTime'] = pd.to_datetime(df['originationDateTime'])\n",
    "df2 = df[df['description'].str.match('STARBUCKS')]\n",
    "#select desired columns from dataset\n",
    "df3 = df2[['description','originationDateTime', 'currencyAmount']]\n",
    "df3.head(n=5)\n",
    "#calculate rolling mean on the currency amount and store values in a new column\n",
    "df3['MA_10'] = df3['currencyAmount'].rolling(window=10).mean()\n",
    "df3.head(n=15)\n",
    "#sort values of rolling mean\n",
    "df3.sort_values(by=['MA_10'], inplace=True, ascending=False)\n",
    "df3.head(n=5)\n",
    "#select the top value of date column in the dataset as the date with the highest average\n",
    "print(df3.iloc[0,1])"
   ]
  },
  {
   "cell_type": "markdown",
   "metadata": {},
   "source": [
    "date with that exhibited the highest average spend above trend at Starbucks (based on a 10-period moving average, ignoring missing dates) is 2018-06-28 07:33:00+00:00."
   ]
  },
  {
   "cell_type": "markdown",
   "metadata": {},
   "source": [
    "### Customer Segmentation"
   ]
  },
  {
   "cell_type": "markdown",
   "metadata": {},
   "source": [
    "## CLUSTER ANALYSIS FOR CUSTOMER ORDERS"
   ]
  },
  {
   "cell_type": "code",
   "execution_count": 25,
   "metadata": {},
   "outputs": [
    {
     "name": "stderr",
     "output_type": "stream",
     "text": [
      "C:\\Users\\MAIN\\AnacondaProjects\\lib\\site-packages\\pandas\\core\\generic.py:6130: SettingWithCopyWarning: \n",
      "A value is trying to be set on a copy of a slice from a DataFrame\n",
      "\n",
      "See the caveats in the documentation: http://pandas.pydata.org/pandas-docs/stable/indexing.html#indexing-view-versus-copy\n",
      "  self._update_inplace(new_data)\n",
      "C:\\Users\\MAIN\\AnacondaProjects\\lib\\site-packages\\pandas\\core\\generic.py:5096: SettingWithCopyWarning: \n",
      "A value is trying to be set on a copy of a slice from a DataFrame.\n",
      "Try using .loc[row_indexer,col_indexer] = value instead\n",
      "\n",
      "See the caveats in the documentation: http://pandas.pydata.org/pandas-docs/stable/indexing.html#indexing-view-versus-copy\n",
      "  self[name] = value\n"
     ]
    },
    {
     "data": {
      "text/html": [
       "<div>\n",
       "<style scoped>\n",
       "    .dataframe tbody tr th:only-of-type {\n",
       "        vertical-align: middle;\n",
       "    }\n",
       "\n",
       "    .dataframe tbody tr th {\n",
       "        vertical-align: top;\n",
       "    }\n",
       "\n",
       "    .dataframe thead th {\n",
       "        text-align: right;\n",
       "    }\n",
       "</style>\n",
       "<table border=\"1\" class=\"dataframe\">\n",
       "  <thead>\n",
       "    <tr style=\"text-align: right;\">\n",
       "      <th></th>\n",
       "      <th>totalIncome</th>\n",
       "      <th>relationshipStatus</th>\n",
       "      <th>type</th>\n",
       "      <th>gender</th>\n",
       "      <th>birthDate</th>\n",
       "      <th>workActivity</th>\n",
       "      <th>occupationIndustry</th>\n",
       "      <th>habitationStatus</th>\n",
       "    </tr>\n",
       "  </thead>\n",
       "  <tbody>\n",
       "    <tr>\n",
       "      <th>0</th>\n",
       "      <td>0.0</td>\n",
       "      <td>1</td>\n",
       "      <td>1</td>\n",
       "      <td>1</td>\n",
       "      <td>12/26/1985</td>\n",
       "      <td>1</td>\n",
       "      <td>6111 Elementary and secondary schools</td>\n",
       "      <td>2</td>\n",
       "    </tr>\n",
       "    <tr>\n",
       "      <th>1</th>\n",
       "      <td>40009.2</td>\n",
       "      <td>0</td>\n",
       "      <td>1</td>\n",
       "      <td>0</td>\n",
       "      <td>1/30/1977</td>\n",
       "      <td>0</td>\n",
       "      <td>5221 Depository credit intermediation</td>\n",
       "      <td>0</td>\n",
       "    </tr>\n",
       "    <tr>\n",
       "      <th>2</th>\n",
       "      <td>0.0</td>\n",
       "      <td>1</td>\n",
       "      <td>1</td>\n",
       "      <td>0</td>\n",
       "      <td>11/22/2003</td>\n",
       "      <td>1</td>\n",
       "      <td>6111 Elementary and secondary schools</td>\n",
       "      <td>1</td>\n",
       "    </tr>\n",
       "    <tr>\n",
       "      <th>3</th>\n",
       "      <td>44709.0</td>\n",
       "      <td>0</td>\n",
       "      <td>1</td>\n",
       "      <td>2</td>\n",
       "      <td>5/7/1983</td>\n",
       "      <td>0</td>\n",
       "      <td>5412 Accounting, tax preparation, bookkeeping ...</td>\n",
       "      <td>0</td>\n",
       "    </tr>\n",
       "    <tr>\n",
       "      <th>4</th>\n",
       "      <td>21496.0</td>\n",
       "      <td>1</td>\n",
       "      <td>1</td>\n",
       "      <td>1</td>\n",
       "      <td>1/29/1983</td>\n",
       "      <td>0</td>\n",
       "      <td>4855 Charter bus industry</td>\n",
       "      <td>1</td>\n",
       "    </tr>\n",
       "  </tbody>\n",
       "</table>\n",
       "</div>"
      ],
      "text/plain": [
       "   totalIncome  relationshipStatus  type  gender   birthDate  workActivity  \\\n",
       "0          0.0                   1     1       1  12/26/1985             1   \n",
       "1      40009.2                   0     1       0   1/30/1977             0   \n",
       "2          0.0                   1     1       0  11/22/2003             1   \n",
       "3      44709.0                   0     1       2    5/7/1983             0   \n",
       "4      21496.0                   1     1       1   1/29/1983             0   \n",
       "\n",
       "                                  occupationIndustry  habitationStatus  \n",
       "0              6111 Elementary and secondary schools                 2  \n",
       "1              5221 Depository credit intermediation                 0  \n",
       "2              6111 Elementary and secondary schools                 1  \n",
       "3  5412 Accounting, tax preparation, bookkeeping ...                 0  \n",
       "4                          4855 Charter bus industry                 1  "
      ]
     },
     "execution_count": 25,
     "metadata": {},
     "output_type": "execute_result"
    }
   ],
   "source": [
    "#import data\n",
    "df1 = pd.read_csv('BusinessCase_Custs.csv')\n",
    "\n",
    "list(df1.columns) \n",
    "df1.head(n=5)\n",
    "#check missing values\n",
    "df1.isnull().sum()\n",
    "df2 = df1[['totalIncome','relationshipStatus','type', 'gender', 'birthDate', 'workActivity','occupationIndustry', 'habitationStatus']]\n",
    "df2.isnull().sum()\n",
    "#check values in column and fill missing values\n",
    "df2['workActivity'].value_counts(dropna=False)\n",
    "df2['workActivity'].fillna(value='parttime', inplace=True)\n",
    "df2['occupationIndustry'].value_counts(dropna=False)\n",
    "df2['occupationIndustry'].fillna(value='6111 Elementary and secondary schools', inplace=True)\n",
    "df2['habitationStatus'].value_counts(dropna=False)\n",
    "df2['habitationStatus'].fillna(value='Group', inplace=True)\n",
    "df2.isnull().sum()\n",
    "df2.head(n=5)\n",
    "#check vlaues in a column and encode categorical variables\n",
    "df2['gender'].value_counts(dropna=False)\n",
    "df2['relationshipStatus'].value_counts(dropna=False)\n",
    "df2['type'].value_counts(dropna=False)\n",
    "df2.habitationStatus = df2.habitationStatus.map({'With Spouse':0,'With Parent':1,'Group':2})\n",
    "df2.workActivity = df2.workActivity.map({'fulltime':0,'parttime':1})\n",
    "df2.gender = df2.gender.map({'Female':0,'Male':1,'Other':2})\n",
    "df2.relationshipStatus = df2.relationshipStatus.map({'Married':0,'Single':1,'Divorced':2,'Widowed':3,'Separated':4})\n",
    "df2.type = df2.type.map({'Personal':1})\n",
    "df2.head(n=5)"
   ]
  },
  {
   "cell_type": "code",
   "execution_count": 26,
   "metadata": {},
   "outputs": [
    {
     "name": "stderr",
     "output_type": "stream",
     "text": [
      "No handles with labels found to put in legend.\n"
     ]
    },
    {
     "data": {
      "image/png": "[encoded data removed]",
      "text/plain": [
       "<Figure size 432x288 with 1 Axes>"
      ]
     },
     "metadata": {
      "needs_background": "light"
     },
     "output_type": "display_data"
    }
   ],
   "source": [
    "#select columns not needed for clustering\n",
    "X = df2.drop(['occupationIndustry', 'birthDate'], axis=1).values\n",
    "type(X)\n",
    "#export file to external source\n",
    "export_X2 = df2.to_csv (r'C:\\Users\\MAIN\\Desktop\\Most Important Exercises\\Completed projs for GitHub Report\\BusinessCase_Data\\X2.csv', index = None, header=True) #Don't forget to add '.csv' at the end of the path\n",
    "\n",
    "#import clustering algorithm\n",
    "from sklearn.cluster import KMeans\n",
    "#code to obtain the desired number of clusters\n",
    "wcss = []\n",
    "#The Elbow method. Used to find out the optimal no of clusters for the WCSS by running over a range of instances.\n",
    "for k in range(1,11):\n",
    "    model = KMeans(n_clusters=k)\n",
    "    model.fit(X)\n",
    "    wcss.append(model.inertia_)  \n",
    "\n",
    "plt.plot(range(1,11), wcss)\n",
    "plt.xlabel('No of Clusters')\n",
    "plt.ylabel('WCSS')\n",
    "plt.title('The Elbow Method')\n",
    "plt.legend()  #we chose 5 clusters after observing that the WCSS troughs around that region \n",
    "plt.show()\n",
    "#model data \n",
    "model =  KMeans(n_clusters=5) #use model with approved number of clusters\n",
    "model.fit(X)\n",
    "model.inertia_ # do a for a loop for the inertia to get the inertia\n",
    "#predict data\n",
    "y_pred = model.predict(X)"
   ]
  },
  {
   "cell_type": "markdown",
   "metadata": {},
   "source": [
    "The elbow method produced an optimal inflection point at 5. That means we will try to create five different clusters for the customers."
   ]
  },
  {
   "cell_type": "code",
   "execution_count": 27,
   "metadata": {},
   "outputs": [
    {
     "data": {
      "image/png": "[encoded data removed]",
      "text/plain": [
       "<Figure size 432x288 with 1 Axes>"
      ]
     },
     "metadata": {
      "needs_background": "light"
     },
     "output_type": "display_data"
    }
   ],
   "source": [
    "#visualising the clusters for two-dimensional datapoints\n",
    "plt.scatter(X[y_pred == 0,0], X[y_pred == 0,1], s=100, c='red', label = 'Cluster 1')\n",
    "plt.scatter(X[y_pred == 1,0], X[y_pred == 1,1], s=100, c='blue', label = 'Cluster 2')\n",
    "plt.scatter(X[y_pred == 2,0], X[y_pred == 2,1], s=100, c='yellow', label = 'Cluster 3')\n",
    "plt.scatter(X[y_pred == 3,0], X[y_pred == 3,1], s=100, c='green', label = 'Cluster 4')\n",
    "plt.scatter(X[y_pred == 4,0], X[y_pred == 4,1], s=100, c='brown', label = 'Cluster 5')\n",
    "plt.scatter(model.cluster_centers_[:,0], model.cluster_centers_[:,1], s = 300, c = 'black', label ='Centroids')\n",
    "plt.title('Clusters of Customers')\n",
    "plt.xlabel('(Total Income($)')\n",
    "plt.ylabel('(relationshipStatus)')\n",
    "plt.legend()\n",
    "plt.show()"
   ]
  },
  {
   "cell_type": "code",
   "execution_count": null,
   "metadata": {},
   "outputs": [],
   "source": []
  }
 ],
 "metadata": {
  "kernelspec": {
   "display_name": "Python 3",
   "language": "python",
   "name": "python3"
  },
  "language_info": {
   "codemirror_mode": {
    "name": "ipython",
    "version": 3
   },
   "file_extension": ".py",
   "mimetype": "text/x-python",
   "name": "python",
   "nbconvert_exporter": "python",
   "pygments_lexer": "ipython3",
   "version": "3.7.3"
  }
 },
 "nbformat": 4,
 "nbformat_minor": 2
}
